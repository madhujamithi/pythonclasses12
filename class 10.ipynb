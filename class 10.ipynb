{
 "cells": [
  {
   "cell_type": "code",
   "execution_count": null,
   "id": "1b84c64a",
   "metadata": {},
   "outputs": [],
   "source": [
    "# handle multiple errors with one\n",
    "# except statement\n",
    "\n",
    " \n",
    "def fun(a):\n",
    "    if a < 4:\n",
    "        b = a/(a-3)\n",
    " \n",
    "    print(\"Value of b = \", b)\n",
    "     \n",
    "try:\n",
    "    fun(5)\n",
    "    fun(3)\n",
    "## multiple exceptions\n",
    "\n",
    "except ZeroDivisionError:\n",
    "    print(\"ZeroDivisionError Occurred and Handled\")\n",
    "except NameError:\n",
    "    print(\"NameError Occurred and Handled\")"
   ]
  },
  {
   "cell_type": "code",
   "execution_count": null,
   "id": "cf1d0bdd",
   "metadata": {},
   "outputs": [],
   "source": []
  },
  {
   "cell_type": "code",
   "execution_count": 2,
   "id": "f7b4df34",
   "metadata": {},
   "outputs": [
    {
     "data": {
      "text/plain": [
       "3"
      ]
     },
     "execution_count": 2,
     "metadata": {},
     "output_type": "execute_result"
    }
   ],
   "source": [
    "1+2"
   ]
  },
  {
   "cell_type": "code",
   "execution_count": 3,
   "id": "c944663f",
   "metadata": {},
   "outputs": [
    {
     "data": {
      "text/plain": [
       "6"
      ]
     },
     "execution_count": 3,
     "metadata": {},
     "output_type": "execute_result"
    }
   ],
   "source": [
    "1*2*3"
   ]
  },
  {
   "cell_type": "code",
   "execution_count": null,
   "id": "96f29bb6",
   "metadata": {},
   "outputs": [],
   "source": []
  },
  {
   "cell_type": "code",
   "execution_count": 1,
   "id": "0febdc7a",
   "metadata": {},
   "outputs": [
    {
     "data": {
      "text/plain": [
       "(27, 'multiplying three numbers')"
      ]
     },
     "execution_count": 1,
     "metadata": {},
     "output_type": "execute_result"
    }
   ],
   "source": [
    "class Calculate:\n",
    "    def add(self,a,b):\n",
    "        return a+b,\"addind two numbers\"\n",
    "    def add(self,a,b,c):\n",
    "        return a*b*c,\"multiplying three numbers\"\n",
    "cal=Calculate()\n",
    "cal.add(3,3,3)"
   ]
  },
  {
   "cell_type": "code",
   "execution_count": null,
   "id": "67643cee",
   "metadata": {},
   "outputs": [],
   "source": []
  },
  {
   "cell_type": "code",
   "execution_count": null,
   "id": "b44f6934",
   "metadata": {},
   "outputs": [],
   "source": [
    "### Method overloading ,Method overriding,Operator overloading"
   ]
  },
  {
   "cell_type": "code",
   "execution_count": null,
   "id": "3862c783",
   "metadata": {},
   "outputs": [],
   "source": [
    "##1.what is method overloading"
   ]
  },
  {
   "cell_type": "code",
   "execution_count": 6,
   "id": "3fff03a2",
   "metadata": {},
   "outputs": [],
   "source": [
    "def method_overloading(a,b,c=0):\n",
    "    if c==0:\n",
    "        return a+b,\"adding two numbers ,you given c=0\"\n",
    "    else:\n",
    "        return a*b*c,\"mutiplying three numbers,got three values\"\n",
    "    method_overloading(1,3,4)"
   ]
  },
  {
   "cell_type": "code",
   "execution_count": null,
   "id": "4338811f",
   "metadata": {},
   "outputs": [],
   "source": []
  },
  {
   "cell_type": "code",
   "execution_count": 7,
   "id": "741d6972",
   "metadata": {},
   "outputs": [
    {
     "name": "stdout",
     "output_type": "stream",
     "text": [
      "this is child class \n"
     ]
    }
   ],
   "source": [
    "class A:\n",
    "    def walk(self):\n",
    "        print(\"this walk\")\n",
    "class D(A):\n",
    "    def Walk(Self):\n",
    "        print(\"this is child class \")\n",
    "d = D()\n",
    "d.Walk()\n",
    "    "
   ]
  },
  {
   "cell_type": "code",
   "execution_count": null,
   "id": "4ef93951",
   "metadata": {},
   "outputs": [],
   "source": [
    "###module,package,VS code"
   ]
  },
  {
   "cell_type": "code",
   "execution_count": null,
   "id": "5a8c4638",
   "metadata": {},
   "outputs": [],
   "source": []
  },
  {
   "cell_type": "code",
   "execution_count": null,
   "id": "40cd67df",
   "metadata": {},
   "outputs": [],
   "source": []
  },
  {
   "cell_type": "code",
   "execution_count": null,
   "id": "b47b6627",
   "metadata": {},
   "outputs": [],
   "source": []
  },
  {
   "cell_type": "code",
   "execution_count": null,
   "id": "41a8cd60",
   "metadata": {},
   "outputs": [],
   "source": []
  },
  {
   "cell_type": "code",
   "execution_count": null,
   "id": "9a0a4f52",
   "metadata": {},
   "outputs": [],
   "source": []
  },
  {
   "cell_type": "code",
   "execution_count": null,
   "id": "8eeb0cef",
   "metadata": {},
   "outputs": [],
   "source": []
  },
  {
   "cell_type": "code",
   "execution_count": null,
   "id": "cbbf1706",
   "metadata": {},
   "outputs": [],
   "source": []
  },
  {
   "cell_type": "code",
   "execution_count": null,
   "id": "4af4c282",
   "metadata": {},
   "outputs": [],
   "source": []
  },
  {
   "cell_type": "code",
   "execution_count": null,
   "id": "4ad14dd8",
   "metadata": {},
   "outputs": [],
   "source": []
  },
  {
   "cell_type": "code",
   "execution_count": null,
   "id": "865b3db2",
   "metadata": {},
   "outputs": [],
   "source": []
  }
 ],
 "metadata": {
  "kernelspec": {
   "display_name": "Python 3 (ipykernel)",
   "language": "python",
   "name": "python3"
  },
  "language_info": {
   "codemirror_mode": {
    "name": "ipython",
    "version": 3
   },
   "file_extension": ".py",
   "mimetype": "text/x-python",
   "name": "python",
   "nbconvert_exporter": "python",
   "pygments_lexer": "ipython3",
   "version": "3.11.4"
  }
 },
 "nbformat": 4,
 "nbformat_minor": 5
}
